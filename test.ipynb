version https://git-lfs.github.com/spec/v1
oid sha256:f592c605ac00f6fbc8e649daf3d9eab939deee0b65252f61b72f67147e6513f3
size 498495
