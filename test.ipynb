version https://git-lfs.github.com/spec/v1
oid sha256:a7074a768026e35dd02731e83d5acbbbbef971f7741495a020c18faaa244ad76
size 507944
