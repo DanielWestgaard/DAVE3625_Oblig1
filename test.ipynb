version https://git-lfs.github.com/spec/v1
oid sha256:d8a85696af571178875119eaac9241e01e663c821ba862295dae8e3cf88b8747
size 508882
