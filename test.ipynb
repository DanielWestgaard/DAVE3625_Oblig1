version https://git-lfs.github.com/spec/v1
oid sha256:ef40c56450c7cb2b82fc4c763fd28bf8be4374806f5dfd395cc57a264ad2ad1d
size 19087
