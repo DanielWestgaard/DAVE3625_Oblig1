version https://git-lfs.github.com/spec/v1
oid sha256:dfb9d94b43d9872808e6bf313452245c51536026da089b2d23644e657330ea5b
size 29576
