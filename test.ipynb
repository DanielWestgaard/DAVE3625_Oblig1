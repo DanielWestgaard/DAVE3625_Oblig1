version https://git-lfs.github.com/spec/v1
oid sha256:1a18754e5d1fe5833e974f1075ed4d9efa8c71a533007dcd6f98ac01c89a2100
size 191876
