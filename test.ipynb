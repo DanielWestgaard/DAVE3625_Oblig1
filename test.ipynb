version https://git-lfs.github.com/spec/v1
oid sha256:75e0dfd80f3eba730f71a2c8f73737bc4d9a422b433a2a24932822bc32bc8890
size 51134
