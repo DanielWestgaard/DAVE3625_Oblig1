version https://git-lfs.github.com/spec/v1
oid sha256:198b2f04ce2fd50984f0caba7fe38e9b859fb23785933cd2aa41a2962c4480fb
size 26101
