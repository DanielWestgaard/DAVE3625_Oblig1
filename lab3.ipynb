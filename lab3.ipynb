version https://git-lfs.github.com/spec/v1
oid sha256:1b51603dfaf5d1948b0934c576702b190b2b4e7d887862ad5c96604dfb4e3dfa
size 20105
