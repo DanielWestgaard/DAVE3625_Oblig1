version https://git-lfs.github.com/spec/v1
oid sha256:eef36d7a1760456cd4575bab635a22c3be39e7abc15ab6b13b48fe4da63c0b2d
size 4912
