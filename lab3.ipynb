version https://git-lfs.github.com/spec/v1
oid sha256:c3706181cf7bdb0d5fc7bbc418e115f24a3f16783232ba36b9010124599ef418
size 27382
