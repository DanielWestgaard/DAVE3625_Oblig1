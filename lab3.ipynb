version https://git-lfs.github.com/spec/v1
oid sha256:e00a1f7b225cff4d664c6691c3f125ffb7f8778d292415192186fce12e3f280a
size 5325
