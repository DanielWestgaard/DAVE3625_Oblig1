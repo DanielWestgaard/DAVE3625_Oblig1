version https://git-lfs.github.com/spec/v1
oid sha256:8964200748c4c9dcff15ae386bfdfe35f211a007da7c6c9c067e755873e98758
size 14803
