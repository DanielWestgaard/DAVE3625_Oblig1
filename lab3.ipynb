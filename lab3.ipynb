version https://git-lfs.github.com/spec/v1
oid sha256:1ec5692a8aa27dbf0dbab92a612bef2b0822c21bf7dafa8392ecd8daa09495fb
size 16117
