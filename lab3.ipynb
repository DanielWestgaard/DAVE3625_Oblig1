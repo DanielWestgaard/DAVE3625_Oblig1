version https://git-lfs.github.com/spec/v1
oid sha256:d18cfe3d9f3ceedf3b6c8f73645efd63f8ea3f812719483591821dbfde491229
size 3281
